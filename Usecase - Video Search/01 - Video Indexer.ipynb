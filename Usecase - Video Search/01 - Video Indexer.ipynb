{
 "cells": [
  {
   "cell_type": "code",
   "execution_count": 1,
   "id": "c5ce1cca-3e3e-46e4-a4de-cab3e5dfaf09",
   "metadata": {},
   "outputs": [
    {
     "data": {
      "text/plain": [
       "True"
      ]
     },
     "execution_count": 1,
     "metadata": {},
     "output_type": "execute_result"
    }
   ],
   "source": [
    "import os\n",
    "\n",
    "from dotenv import load_dotenv\n",
    "\n",
    "from azure_blob_storage import BlobStorageClient\n",
    "from video_indexer_api import VideoIndexerClient\n",
    "\n",
    "load_dotenv()"
   ]
  },
  {
   "cell_type": "code",
   "execution_count": 2,
   "id": "646421e5-04a7-476f-a1af-30e5f1eaca1c",
   "metadata": {},
   "outputs": [
    {
     "name": "stdout",
     "output_type": "stream",
     "text": [
      "Container already exists.\n"
     ]
    }
   ],
   "source": [
    "## Upload the video to the Azure Blob Storage\n",
    "\n",
    "video_path = os.path.join(\"Videos\", \"India will buy wheat from Russia_ What happened suddenly_ By Prashant Dhawan.mp4\")\n",
    "\n",
    "blob_storage_client = BlobStorageClient(\n",
    "    storage_account_name = \"storageacc4alkass\",\n",
    "    access_key = os.getenv(\"AZ_STORAGE_ACC_ACCESS_KEY\"),\n",
    "    container_name = os.getenv(\"\")\n",
    ")\n",
    "blob_container_client = blob_storage_client.create_access_container(container_name = \"test-container\")\n",
    "blob_client = blob_storage_client.upload_blob(\n",
    "    container_client = blob_container_client,\n",
    "    file_path        = video_path,\n",
    "    blob_name        = \"video_for_video_indexer\"\n",
    ")"
   ]
  },
  {
   "cell_type": "code",
   "execution_count": 3,
   "id": "e9fea06f-865c-4b1d-a6f5-054d4d3d0d7f",
   "metadata": {},
   "outputs": [
    {
     "data": {
      "text/plain": [
       "[{'name': 'video_for_video_indexer', 'container': 'test-container', 'snapshot': None, 'version_id': None, 'is_current_version': None, 'blob_type': <BlobType.BLOCKBLOB: 'BlockBlob'>, 'metadata': {}, 'encrypted_metadata': None, 'last_modified': datetime.datetime(2023, 11, 15, 5, 18, 7, tzinfo=datetime.timezone.utc), 'etag': '0x8DBE59A40D8A565', 'size': 87, 'content_range': None, 'append_blob_committed_block_count': None, 'is_append_blob_sealed': None, 'page_blob_sequence_number': None, 'server_encrypted': True, 'copy': {'id': None, 'source': None, 'status': None, 'progress': None, 'completion_time': None, 'status_description': None, 'incremental_copy': None, 'destination_snapshot': None}, 'content_settings': {'content_type': 'application/octet-stream', 'content_encoding': None, 'content_language': None, 'content_md5': bytearray(b'$i\\x9f\\xa2\\xa5\\xc3n\\xf2\\xf2.\\xa3M+h\\x96}'), 'content_disposition': None, 'cache_control': None}, 'lease': {'status': 'unlocked', 'state': 'available', 'duration': None}, 'blob_tier': 'Hot', 'rehydrate_priority': None, 'blob_tier_change_time': None, 'blob_tier_inferred': True, 'deleted': None, 'deleted_time': None, 'remaining_retention_days': None, 'creation_time': datetime.datetime(2023, 11, 15, 5, 16, 1, tzinfo=datetime.timezone.utc), 'archive_status': None, 'encryption_key_sha256': None, 'encryption_scope': None, 'request_server_encrypted': None, 'object_replication_source_properties': [], 'object_replication_destination_policy': None, 'last_accessed_on': None, 'tag_count': None, 'tags': None, 'immutability_policy': {'expiry_time': None, 'policy_mode': None}, 'has_legal_hold': None, 'has_versions_only': None}]"
      ]
     },
     "execution_count": 3,
     "metadata": {},
     "output_type": "execute_result"
    }
   ],
   "source": [
    "##  List down all the blobs of the Blob Storage Container\n",
    "blob_storage_client.list_blobs(container_client = blob_container_client)"
   ]
  },
  {
   "cell_type": "code",
   "execution_count": 8,
   "id": "4c385485-c8bf-490f-a714-c54beadd7a8a",
   "metadata": {},
   "outputs": [
    {
     "name": "stdout",
     "output_type": "stream",
     "text": [
      "Shared Access Signature (SAS) URL: https://storageacc4alkass.blob.core.windows.net/test-container/video_for_video_indexer?se=2023-11-16T05%3A32%3A33Z&sp=r&sv=2023-11-03&sr=b&sig=CrOwnACd1hArXz/Z9tLvby2w9VrbZHXPnmca3qMOQyI%3D\n"
     ]
    }
   ],
   "source": [
    "# Define your storage account and access key\n",
    "account_name = 'storageacc4alkass'\n",
    "account_key  = os.getenv(\"AZ_STORAGE_ACC_ACCESS_KEY\")\n",
    "\n",
    "# Create a BlobServiceClient\n",
    "blob_service_client = BlobServiceClient(\n",
    "    account_url = f\"https://{account_name}.blob.core.windows.net\", \n",
    "    credential  = account_key\n",
    ")\n",
    "\n",
    "# Get the blob client\n",
    "container_name = 'test-container'\n",
    "blob_name      = 'video_for_video_indexer'\n",
    "\n",
    "blob_client = blob_service_client.get_blob_client(container = container_name, blob = blob_name)\n",
    "\n",
    "# Generate an SAS token for the blob\n",
    "sas_token = generate_blob_sas(\n",
    "    account_name   = account_name,\n",
    "    container_name = container_name,\n",
    "    blob_name      = blob_name,\n",
    "    account_key    = account_key,\n",
    "    permission     = BlobSasPermissions(read=True),  # Adjust permissions as needed\n",
    "    expiry         = datetime.utcnow() + timedelta(hours=24)  # Set expiration time for the token\n",
    ")\n",
    "\n",
    "# Construct the URL with SAS token\n",
    "blob_url_with_sas = f\"{blob_client.url}?{sas_token}\"\n",
    "print(\"Shared Access Signature (SAS) URL:\", blob_url_with_sas)"
   ]
  },
  {
   "cell_type": "code",
   "execution_count": 6,
   "id": "903db286-70da-4b56-93ee-ce319af90521",
   "metadata": {},
   "outputs": [],
   "source": [
    "video_path = os.path.join(\"Videos\", \"India will buy wheat from Russia_ What happened suddenly_ By Prashant Dhawan.mp4\")\n",
    "\n",
    "video_indexer_client = VideoIndexerClient(\n",
    "    account_id       = os.getenv(\"ACCOUNT_ID\"),\n",
    "    subscription_key = os.getenv(\"SUBSCRIPTION_PRIMARY_KEY\"),\n",
    "    indexer_location = os.getenv(\"VIDEO_INDEXER_LOCATION\")\n",
    ")"
   ]
  },
  {
   "cell_type": "code",
   "execution_count": 7,
   "id": "32c72642-8923-4382-adb3-9c14db7d95e6",
   "metadata": {},
   "outputs": [
    {
     "data": {
      "text/plain": [
       "200"
      ]
     },
     "execution_count": 7,
     "metadata": {},
     "output_type": "execute_result"
    }
   ],
   "source": [
    "response, status_code = video_indexer_client.upload_index_video(video_path)\n",
    "status_code"
   ]
  },
  {
   "cell_type": "code",
   "execution_count": 8,
   "id": "0730217e-5961-48f4-9ed7-d02b2838344e",
   "metadata": {},
   "outputs": [
    {
     "data": {
      "text/plain": [
       "{'accountId': '71e13caa-c1c0-4fec-b62c-cd67dc198c8f',\n",
       " 'id': '458389d330',\n",
       " 'partition': None,\n",
       " 'externalId': None,\n",
       " 'metadata': None,\n",
       " 'name': 'India will buy wheat from Russia_ What happened suddenly_ By Prashant Dhawan',\n",
       " 'description': None,\n",
       " 'created': '2023-11-11T05:59:36.7+00:00',\n",
       " 'lastModified': '2023-11-11T05:59:36.7+00:00',\n",
       " 'lastIndexed': '2023-11-11T05:59:36.7+00:00',\n",
       " 'privacyMode': 'Private',\n",
       " 'userName': 'Sayan Roy',\n",
       " 'isOwned': True,\n",
       " 'isBase': True,\n",
       " 'hasSourceVideoFile': True,\n",
       " 'state': 'Uploaded',\n",
       " 'moderationState': 'OK',\n",
       " 'reviewState': 'None',\n",
       " 'processingProgress': '1%',\n",
       " 'durationInSeconds': 0,\n",
       " 'thumbnailVideoId': '458389d330',\n",
       " 'thumbnailId': '00000000-0000-0000-0000-000000000000',\n",
       " 'searchMatches': [],\n",
       " 'indexingPreset': 'Default',\n",
       " 'streamingPreset': 'Default',\n",
       " 'sourceLanguage': None,\n",
       " 'personModelId': '00000000-0000-0000-0000-000000000000'}"
      ]
     },
     "execution_count": 8,
     "metadata": {},
     "output_type": "execute_result"
    }
   ],
   "source": [
    "response"
   ]
  },
  {
   "cell_type": "code",
   "execution_count": null,
   "id": "1559e003-7fc9-41a1-95bf-a84617da87ec",
   "metadata": {},
   "outputs": [],
   "source": [
    "video_id = response[\"id\"]"
   ]
  }
 ],
 "metadata": {
  "kernelspec": {
   "display_name": "Python 3 (ipykernel)",
   "language": "python",
   "name": "python3"
  },
  "language_info": {
   "codemirror_mode": {
    "name": "ipython",
    "version": 3
   },
   "file_extension": ".py",
   "mimetype": "text/x-python",
   "name": "python",
   "nbconvert_exporter": "python",
   "pygments_lexer": "ipython3",
   "version": "3.10.12"
  }
 },
 "nbformat": 4,
 "nbformat_minor": 5
}
